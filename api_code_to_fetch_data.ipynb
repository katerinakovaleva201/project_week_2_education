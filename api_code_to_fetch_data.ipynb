{
 "cells": [
  {
   "cell_type": "code",
   "execution_count": null,
   "id": "2c4247a9",
   "metadata": {},
   "outputs": [],
   "source": [
    "pip install wbgapi"
   ]
  },
  {
   "cell_type": "code",
   "execution_count": 2,
   "id": "8ce4fa75",
   "metadata": {},
   "outputs": [],
   "source": [
    "import pandas as pd\n",
    "import matplotlib.pyplot as plt\n",
    "import wbgapi as wb"
   ]
  },
  {
   "cell_type": "code",
   "execution_count": null,
   "id": "a6e8308a",
   "metadata": {},
   "outputs": [],
   "source": [
    "help(wb)"
   ]
  },
  {
   "cell_type": "code",
   "execution_count": null,
   "id": "14c0aecd",
   "metadata": {},
   "outputs": [],
   "source": [
    "wb.series.info(q=\"education\")"
   ]
  },
  {
   "cell_type": "code",
   "execution_count": null,
   "id": "34160175",
   "metadata": {},
   "outputs": [],
   "source": [
    "wb.region.info()"
   ]
  },
  {
   "cell_type": "code",
   "execution_count": null,
   "id": "ece68dac",
   "metadata": {},
   "outputs": [],
   "source": [
    "literacy_rate_female=wb.data.DataFrame('SE.ADT.LITR.FE.ZS',wb.region.members('ECS'))\n",
    "literacy_rate_female"
   ]
  },
  {
   "cell_type": "code",
   "execution_count": null,
   "id": "6691c2d7",
   "metadata": {},
   "outputs": [],
   "source": [
    "enrollment_rate=wb.data.DataFrame('SE.TER.ENRR',['UKR','EST','LVA','LTU','BGR','ROU','MDA','HUN','RUS','POL'], time=range(2019,2020))\n",
    "enrollment_rate"
   ]
  },
  {
   "cell_type": "code",
   "execution_count": 46,
   "id": "71eeaf32",
   "metadata": {},
   "outputs": [],
   "source": [
    "enrollment_rate.to_csv('school_enrollment_tertiary.csv')"
   ]
  },
  {
   "cell_type": "code",
   "execution_count": null,
   "id": "5fd5d06c",
   "metadata": {},
   "outputs": [],
   "source": []
  }
 ],
 "metadata": {
  "kernelspec": {
   "display_name": "Python 3",
   "language": "python",
   "name": "python3"
  },
  "language_info": {
   "codemirror_mode": {
    "name": "ipython",
    "version": 3
   },
   "file_extension": ".py",
   "mimetype": "text/x-python",
   "name": "python",
   "nbconvert_exporter": "python",
   "pygments_lexer": "ipython3",
   "version": "3.10.9"
  },
  "vscode": {
   "interpreter": {
    "hash": "f88b970425a6d06aa264ed2c10c0c99747f8dde27d192521723c48330937163e"
   }
  }
 },
 "nbformat": 4,
 "nbformat_minor": 5
}
